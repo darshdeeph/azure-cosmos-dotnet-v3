{
  "cells": [
    {
      "cell_type": "code",
      "execution_count": null,
      "metadata": {
        "collapsed": true,
        "jupyter": {
          "outputs_hidden": false,
          "source_hidden": false
        },
        "nteract": {
          "transient": {
            "deleting": false
          }
        },
        "outputExpanded": false,
        "trusted": true
      },
      "outputs": [],
      "source": "%%sql --database testdb --container runsummary --output runlogs\n\nselect \n\tc.WorkloadType, \n\tc.CommitDate, \n\tc.Top10PercentAverageRps, \n\tc.Top20PercentAverageRps, \n\tc.Top30PercentAverageRps, \n\tc.Top40PercentAverageRps, \n\tc.Top50PercentAverageRps, \n\tc.AverageRps \nfrom c \nwhere c.Cores = 4 and c.pk = \"runs-summary\""
    },
    {
      "cell_type": "code",
      "execution_count": null,
      "metadata": {
        "collapsed": true,
        "jupyter": {
          "outputs_hidden": false,
          "source_hidden": false
        },
        "nteract": {
          "transient": {
            "deleting": false
          }
        },
        "outputExpanded": false,
        "trusted": true
      },
      "outputs": [],
      "source": "import matplotlib.pyplot as plt\n\nwts = ['InsertV3', 'ReadStreamExistsV3', 'ReadTExistsV3', 'ReadNotExistsV3', 'ReadFeedStreamV3']\nfor wt in wts:\n    fig, ax = plt.subplots(figsize=(20,10))\n    plt.title(wt + \" max()\", fontsize=30)\n    runlogs[runlogs.WorkloadType == wt].groupby(\"CommitDate\").max().plot(fontsize=20, ax=ax)"
    },
    {
      "cell_type": "code",
      "execution_count": null,
      "metadata": {
        "collapsed": true,
        "jupyter": {
          "outputs_hidden": false,
          "source_hidden": false
        },
        "nteract": {
          "transient": {
            "deleting": false
          }
        },
        "outputExpanded": false,
        "trusted": true
      },
      "outputs": [],
      "source": "import matplotlib.pyplot as plt\n\nwts = ['InsertV3', 'ReadStreamExistsV3', 'ReadTExistsV3', 'ReadNotExistsV3', 'ReadFeedStreamV3']\nfor wt in wts:\n    fig, ax = plt.subplots(figsize=(20,10))\n    plt.title(wt + \" mean()\", fontsize=30)\n    runlogs[runlogs.WorkloadType == wt].groupby(\"CommitDate\").mean().plot(fontsize=20, ax=ax)"
    }
  ],
  "metadata": {
    "kernelspec": {
      "displayName": "Python 3",
      "language": "python",
      "name": "python3"
    },
    "nteract": {
      "version": "dataExplorer 1.0"
    }
  },
  "nbformat": 4,
  "nbformat_minor": 4
}